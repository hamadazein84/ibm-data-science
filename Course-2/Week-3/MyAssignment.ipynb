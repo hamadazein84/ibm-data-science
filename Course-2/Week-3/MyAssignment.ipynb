{
 "nbformat": 4,
 "nbformat_minor": 2,
 "metadata": {
  "language_info": {
   "name": "python",
   "codemirror_mode": {
    "name": "ipython",
    "version": 3
   },
   "version": "3.7.4-final"
  },
  "orig_nbformat": 2,
  "file_extension": ".py",
  "mimetype": "text/x-python",
  "name": "python",
  "npconvert_exporter": "python",
  "pygments_lexer": "ipython3",
  "version": 3,
  "kernelspec": {
   "name": "python3",
   "display_name": "Python 3"
  }
 },
 "cells": [
  {
   "cell_type": "markdown",
   "metadata": {},
   "source": [
    "# My Jupyter Notebook on IBM Data Science Experience"
   ]
  },
  {
   "cell_type": "markdown",
   "metadata": {},
   "source": [
    "**Mohamed Zein**  \n",
    "Software Engineer"
   ]
  },
  {
   "cell_type": "markdown",
   "metadata": {},
   "source": [
    "*I am interested in Data Science to advance my career. It is an interesting topic that touches almost all aspects of our modern life.*"
   ]
  },
  {
   "cell_type": "markdown",
   "metadata": {},
   "source": [
    "### Divide 2 numbers"
   ]
  },
  {
   "cell_type": "code",
   "execution_count": 2,
   "metadata": {},
   "outputs": [
    {
     "output_type": "execute_result",
     "data": {
      "text/plain": "2.0"
     },
     "metadata": {},
     "execution_count": 2
    }
   ],
   "source": [
    "a = 10\n",
    "b = 5\n",
    "c = a / b\n",
    "c"
   ]
  },
  {
   "cell_type": "markdown",
   "metadata": {},
   "source": [
    "#### Variables used in my code:  \n",
    "\n",
    "Variable | Value/Description\n",
    "---------|----------\n",
    " a | 10\n",
    " b | 5\n",
    " c | Result\n",
    "\n",
    " -----  \n",
    "\n",
    " #### The Source Code:  \n",
    " ```python\n",
    "a = 10\n",
    "b = 5\n",
    "c = a / b\n",
    "c\n",
    "```\n",
    "---\n",
    "#### The End Result\n",
    "\n",
    "The end result is:  \n",
    "* 2 \n",
    "\n"
   ]
  }
 ]
}